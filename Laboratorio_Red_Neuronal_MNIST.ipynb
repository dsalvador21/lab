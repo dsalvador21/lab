{
 "cells": [
  {
   "cell_type": "markdown",
   "id": "0e566d1d",
   "metadata": {},
   "source": [
    "\n",
    "# Laboratorio: Red Neuronal con MNIST  \n",
    "**Curso:** Machine Learning  \n",
    "**Total puntos:** 10\n",
    "\n",
    "**Objetivo:** Implementar una red neuronal simple para clasificar dígitos escritos a mano del conjunto de datos MNIST utilizando Python y Keras.\n"
   ]
  },
  {
   "cell_type": "markdown",
   "id": "d6ff2177",
   "metadata": {},
   "source": [
    "\n",
    "## Paso 1: Cargar el conjunto de datos MNIST (1 punto)\n",
    "\n",
    "Ejecuta el siguiente bloque para descargar y explorar el conjunto de datos.\n"
   ]
  },
  {
   "cell_type": "code",
   "execution_count": 1,
   "id": "7c659575",
   "metadata": {},
   "outputs": [
    {
     "name": "stdout",
     "output_type": "stream",
     "text": [
      "Tamaño del set de entrenamiento: (60000, 28, 28)\n",
      "Tamaño del set de test: (10000, 28, 28)\n"
     ]
    }
   ],
   "source": [
    "from tensorflow.keras.datasets import mnist \n",
    "\n",
    "# Cargar el conjunto de datos MNIST\n",
    "(x_train, y_train), (x_test, y_test) = mnist.load_data()\n",
    "print(\"Tamaño del set de entrenamiento:\", x_train.shape)\n",
    "print(\"Tamaño del set de test:\", x_test.shape)"
   ]
  },
  {
   "cell_type": "markdown",
   "id": "8c2895d0",
   "metadata": {},
   "source": [
    "\n",
    "## Paso 2: Visualizar ejemplos del dataset (1 punto)\n",
    "\n",
    "✏️ **Slot para completar:** Visualiza al menos 5 imágenes con sus etiquetas utilizando `matplotlib.pyplot.imshow()`.\n"
   ]
  },
  {
   "cell_type": "code",
   "execution_count": 2,
   "id": "1fab1a72",
   "metadata": {},
   "outputs": [
    {
     "data": {
      "image/png": "[encoded data removed]",
      "text/plain": [
       "<Figure size 1000x200 with 5 Axes>"
      ]
     },
     "metadata": {},
     "output_type": "display_data"
    }
   ],
   "source": [
    "import matplotlib.pyplot as plt\n",
    "\n",
    "# Visualizar al menos 5 imágenes del dataset con sus etiquetas utilizando matplotlib\n",
    "plt.figure(figsize=(10, 2))  # ancho, alto del gráfico\n",
    "for i in range(5):\n",
    "    plt.subplot(1, 5, i+1)  # 1 fila, 5 columnas (1 columna para cada ejemplo), índice del subplot\n",
    "    plt.imshow(x_train[i], cmap='gray')  # Mostrar la imagen en escala de grises\n",
    "    plt.title(f\"Etiqueta: {y_train[i]}\")\n",
    "    plt.axis('off')  \n",
    "\n",
    "plt.tight_layout()\n",
    "plt.show()"
   ]
  },
  {
   "cell_type": "markdown",
   "id": "9e5bc3a8",
   "metadata": {},
   "source": [
    "\n",
    "## Paso 3: Preprocesamiento (1 punto)\n",
    "\n",
    "✏️ **Slot para completar:** \n",
    "- Normaliza las imágenes (divide por 255.0).\n",
    "- Aplana cada imagen a un vector de 784 valores.\n",
    "- Codifica las etiquetas con `to_categorical`.\n"
   ]
  },
  {
   "cell_type": "code",
   "execution_count": 3,
   "id": "40757ea1",
   "metadata": {},
   "outputs": [],
   "source": [
    "# COMPLETA AQUÍ: Normalización, flattening y codificación one-hot\n",
    "from tensorflow.keras.utils import to_categorical\n",
    "# Normalización\n",
    "x_train = x_train / 255.0\n",
    "x_test = x_test / 255.0\n",
    "# Flattening\n",
    "x_train = x_train.reshape(x_train.shape[0], 28*28)\n",
    "x_test = x_test.reshape(x_test.shape[0], 28*28)\n",
    "# One-hot encoding\n",
    "num_classes = 10\n",
    "y_train = to_categorical(y_train, num_classes)\n",
    "y_test = to_categorical(y_test, num_classes)"
   ]
  },
  {
   "cell_type": "markdown",
   "id": "36e5006d",
   "metadata": {},
   "source": [
    "\n",
    "## Paso 4: Definir la red neuronal (2 puntos)\n",
    "\n",
    "✏️ **Slot para completar:** \n",
    "- Crea un modelo `Sequential`.\n",
    "- Agrega una capa oculta con activación ReLU.\n",
    "- Agrega una capa de salida con activación Softmax.\n",
    "- Compila el modelo con `adam` y `categorical_crossentropy`.\n"
   ]
  },
  {
   "cell_type": "code",
   "execution_count": 4,
   "id": "9256bacd",
   "metadata": {},
   "outputs": [
    {
     "name": "stderr",
     "output_type": "stream",
     "text": [
      "c:\\Users\\diego\\AppData\\Local\\Programs\\Python\\Python312\\Lib\\site-packages\\keras\\src\\layers\\reshaping\\flatten.py:37: UserWarning: Do not pass an `input_shape`/`input_dim` argument to a layer. When using Sequential models, prefer using an `Input(shape)` object as the first layer in the model instead.\n",
      "  super().__init__(**kwargs)\n"
     ]
    }
   ],
   "source": [
    "# COMPLETA AQUÍ: Definición y compilación del modelo\n",
    "from tensorflow.keras.models import Sequential\n",
    "from tensorflow.keras.layers import Dense, Flatten\n",
    "# Crear un modelo Sequential\n",
    "model = Sequential([\n",
    "    Flatten(input_shape=(28*28,)),  # Capa de entrada\n",
    "    Dense(128, activation='relu'),  # Capa oculta\n",
    "    Dense(10, activation='softmax')  # Capa de salida\n",
    "])\n",
    "\n",
    "# Compilar el modelo\n",
    "model.compile(optimizer='adam', loss='categorical_crossentropy', metrics=['accuracy'])"
   ]
  },
  {
   "cell_type": "markdown",
   "id": "32fa8560",
   "metadata": {},
   "source": [
    "\n",
    "## Paso 5: Entrenar el modelo (1 punto)\n",
    "\n",
    "✏️ **Slot para completar:** Entrena el modelo con `fit` durante 5 épocas y batch size 32.\n"
   ]
  },
  {
   "cell_type": "code",
   "execution_count": 5,
   "id": "df8023c2",
   "metadata": {},
   "outputs": [
    {
     "name": "stdout",
     "output_type": "stream",
     "text": [
      "Epoch 1/5\n",
      "\u001b[1m1875/1875\u001b[0m \u001b[32m━━━━━━━━━━━━━━━━━━━━\u001b[0m\u001b[37m\u001b[0m \u001b[1m4s\u001b[0m 2ms/step - accuracy: 0.8795 - loss: 0.4284\n",
      "Epoch 2/5\n",
      "\u001b[1m1875/1875\u001b[0m \u001b[32m━━━━━━━━━━━━━━━━━━━━\u001b[0m\u001b[37m\u001b[0m \u001b[1m3s\u001b[0m 2ms/step - accuracy: 0.9648 - loss: 0.1212\n",
      "Epoch 3/5\n",
      "\u001b[1m1875/1875\u001b[0m \u001b[32m━━━━━━━━━━━━━━━━━━━━\u001b[0m\u001b[37m\u001b[0m \u001b[1m3s\u001b[0m 2ms/step - accuracy: 0.9745 - loss: 0.0835\n",
      "Epoch 4/5\n",
      "\u001b[1m1875/1875\u001b[0m \u001b[32m━━━━━━━━━━━━━━━━━━━━\u001b[0m\u001b[37m\u001b[0m \u001b[1m3s\u001b[0m 2ms/step - accuracy: 0.9819 - loss: 0.0599\n",
      "Epoch 5/5\n",
      "\u001b[1m1875/1875\u001b[0m \u001b[32m━━━━━━━━━━━━━━━━━━━━\u001b[0m\u001b[37m\u001b[0m \u001b[1m3s\u001b[0m 2ms/step - accuracy: 0.9863 - loss: 0.0464\n",
      "You must install graphviz (see instructions at https://graphviz.gitlab.io/download/) for `plot_model` to work.\n"
     ]
    }
   ],
   "source": [
    "# COMPLETA AQUÍ: Entrenamiento del modelo\n",
    "from tensorflow.keras.utils import plot_model\n",
    "model.fit(x_train, y_train, epochs=5, batch_size=32)\n",
    "plot_model(model, to_file='model.png', show_shapes=True, show_layer_names=True)"
   ]
  },
  {
   "cell_type": "markdown",
   "id": "abd4ea81",
   "metadata": {},
   "source": [
    "\n",
    "## Paso 6: Evaluar el modelo (1 punto)\n",
    "\n",
    "✏️ **Slot para completar:** Evalúa el modelo con `evaluate()` en el conjunto de prueba.\n"
   ]
  },
  {
   "cell_type": "code",
   "execution_count": 6,
   "id": "fed31d1c",
   "metadata": {},
   "outputs": [
    {
     "name": "stdout",
     "output_type": "stream",
     "text": [
      "\u001b[1m313/313\u001b[0m \u001b[32m━━━━━━━━━━━━━━━━━━━━\u001b[0m\u001b[37m\u001b[0m \u001b[1m1s\u001b[0m 1ms/step - accuracy: 0.9739 - loss: 0.0832\n",
      "Precisión en el set de test: 0.9777\n"
     ]
    }
   ],
   "source": [
    "# COMPLETA AQUÍ: Evaluación del modelo\n",
    "test_loss, test_accuracy = model.evaluate(x_test, y_test)\n",
    "print(f\"Precisión en el set de test: {test_accuracy:.4f}\")"
   ]
  },
  {
   "cell_type": "markdown",
   "id": "7b5a1fd0",
   "metadata": {},
   "source": [
    "## Preguntas de Reflexión (3 puntos en total)"
   ]
  },
  {
   "cell_type": "markdown",
   "id": "7455c9fb",
   "metadata": {},
   "source": [
    "### 1. ¿Qué ventaja observas al usar codificación one-hot para las etiquetas? (0.5 punto)"
   ]
  },
  {
   "cell_type": "code",
   "execution_count": 7,
   "id": "d7940958",
   "metadata": {},
   "outputs": [],
   "source": [
    "# Usar codificación one-hot para las etiquetas tiene la ventaja de representar cada clase\n",
    "# como un vector binario sin orden implícito entre categorías. Esto es especialmente útil en\n",
    "# clasificación con múltiples clases, ya que permite aplicar funciones de pérdida como categorical_crossentropy,\n",
    "# ayudando al modelo a aprender salidas más precisas y diferenciadas para cada clase."
   ]
  },
  {
   "cell_type": "markdown",
   "id": "dbd9f5f9",
   "metadata": {},
   "source": [
    "### 2. ¿Qué ocurre si aumentas o disminuyes el número de neuronas ocultas? (0.5 punto)"
   ]
  },
  {
   "cell_type": "code",
   "execution_count": 8,
   "id": "998b05b8",
   "metadata": {},
   "outputs": [],
   "source": [
    "# Si se aumenta el número de neuronas ocultas, el modelo puede aprender representaciones\n",
    "# más complejas, lo que mejora el desempeño si hay suficientes datos. Sin embargo, esto también\n",
    "# incrementa el riesgo de sobreajuste y el tiempo de entrenamiento. Por otro lado, disminuir\n",
    "# las neuronas reduce la capacidad del modelo para capturar patrones, afectando negativamente\n",
    "# su precisión en tareas más complejas."
   ]
  },
  {
   "cell_type": "markdown",
   "id": "2a1bf432",
   "metadata": {},
   "source": [
    "### 3. ¿Qué alternativa propondrías al optimizador `adam` y por qué? (0.5 punto)"
   ]
  },
  {
   "cell_type": "code",
   "execution_count": 9,
   "id": "d57b11e7",
   "metadata": {},
   "outputs": [],
   "source": [
    "# Una alternativa al optimizador Adam es el descenso de gradiente estocástico (SGD) con momentum.\n",
    "# Aunque Adam suele converger más rápido, SGD puede ofrecer una mejor generalización en algunos casos.\n",
    "# Además, al tener un comportamiento más controlado y predecible, es útil en situaciones donde se desea\n",
    "# un ajuste más fino de los parámetros de entrenamiento."
   ]
  },
  {
   "cell_type": "markdown",
   "id": "c56b32ea",
   "metadata": {},
   "source": [
    "### 4. ¿Cómo cambia el desempeño si entrenas más épocas? ¿Cuál es el riesgo? (0.5 punto)"
   ]
  },
  {
   "cell_type": "code",
   "execution_count": 10,
   "id": "424e5803",
   "metadata": {},
   "outputs": [],
   "source": [
    "# Entrenar durante más épocas puede permitir que el modelo aprenda mejor los datos,\n",
    "# aumentando su precisión en entrenamiento. No obstante, esto también incrementa el riesgo de\n",
    "# sobreajuste, donde el modelo pierde capacidad de generalizar a datos nuevos, al ajustarse demasiado\n",
    "# a los patrones específicos del conjunto de entrenamiento."
   ]
  },
  {
   "cell_type": "markdown",
   "id": "d79eea4a",
   "metadata": {},
   "source": [
    "### 5. ¿Por qué es importante dividir en conjuntos de entrenamiento y prueba? (1 punto)"
   ]
  },
  {
   "cell_type": "code",
   "execution_count": 11,
   "id": "7e37c659",
   "metadata": {},
   "outputs": [],
   "source": [
    "# Dividir el conjunto de datos en entrenamiento y prueba es fundamental para evaluar correctamente\n",
    "# el rendimiento de un modelo. Entrenar y evaluar con los mismos datos no permite medir su capacidad\n",
    "# de generalización. Al separar los datos, se asegura que el modelo sea probado con ejemplos no vistos,\n",
    "# simulando cómo se comportará ante datos reales en producción."
   ]
  }
 ],
 "metadata": {
  "kernelspec": {
   "display_name": "Python 3",
   "language": "python",
   "name": "python3"
  },
  "language_info": {
   "codemirror_mode": {
    "name": "ipython",
    "version": 3
   },
   "file_extension": ".py",
   "mimetype": "text/x-python",
   "name": "python",
   "nbconvert_exporter": "python",
   "pygments_lexer": "ipython3",
   "version": "3.12.6"
  }
 },
 "nbformat": 4,
 "nbformat_minor": 5
}
